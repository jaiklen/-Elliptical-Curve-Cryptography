{
  "nbformat": 4,
  "nbformat_minor": 0,
  "metadata": {
    "colab": {
      "name": "Final.ipynb",
      "provenance": [],
      "collapsed_sections": [],
      "mount_file_id": "1ZoaUEuy0AF56J10EqH77ibhiDc3vtJhu",
      "authorship_tag": "ABX9TyPPqufpj36pQ3x9D/+bs9ba",
      "include_colab_link": true
    },
    "kernelspec": {
      "name": "python3",
      "display_name": "Python 3"
    },
    "language_info": {
      "name": "python"
    }
  },
  "cells": [
    {
      "cell_type": "markdown",
      "metadata": {
        "id": "view-in-github",
        "colab_type": "text"
      },
      "source": [
        "<a href=\"https://colab.research.google.com/github/jaiklen/-Elliptical-Curve-Cryptography/blob/main/Final.ipynb\" target=\"_parent\"><img src=\"https://colab.research.google.com/assets/colab-badge.svg\" alt=\"Open In Colab\"/></a>"
      ]
    },
    {
      "cell_type": "markdown",
      "source": [
        "**Solution-1**"
      ],
      "metadata": {
        "id": "Fa9P0VRobymF"
      }
    },
    {
      "cell_type": "code",
      "execution_count": null,
      "metadata": {
        "id": "Is8hHDSu3_h7"
      },
      "outputs": [],
      "source": [
        "!unzip /content/drive/MyDrive/endsem/gtfs.zip > /dev/null"
      ]
    },
    {
      "cell_type": "code",
      "source": [
        "import pandas as pd\n",
        "\n",
        "stops_data = pd.read_csv('stops.csv')\n",
        "\n",
        "r_stop = pd.read_csv('route_stops.csv')"
      ],
      "metadata": {
        "id": "VIiYKwyL9Kx8"
      },
      "execution_count": null,
      "outputs": []
    },
    {
      "cell_type": "markdown",
      "source": [
        "**1.a**"
      ],
      "metadata": {
        "id": "N5pHw2Jrb9KZ"
      }
    },
    {
      "cell_type": "code",
      "source": [
        "stops_data.tail()"
      ],
      "metadata": {
        "colab": {
          "base_uri": "https://localhost:8080/",
          "height": 206
        },
        "id": "zitFCW299Rq3",
        "outputId": "2ae95bff-d3c1-4029-a856-3b47a114ace0"
      },
      "execution_count": null,
      "outputs": [
        {
          "output_type": "execute_result",
          "data": {
            "text/html": [
              "<div>\n",
              "<style scoped>\n",
              "    .dataframe tbody tr th:only-of-type {\n",
              "        vertical-align: middle;\n",
              "    }\n",
              "\n",
              "    .dataframe tbody tr th {\n",
              "        vertical-align: top;\n",
              "    }\n",
              "\n",
              "    .dataframe thead th {\n",
              "        text-align: right;\n",
              "    }\n",
              "</style>\n",
              "<table border=\"1\" class=\"dataframe\">\n",
              "  <thead>\n",
              "    <tr style=\"text-align: right;\">\n",
              "      <th></th>\n",
              "      <th>stop_id</th>\n",
              "      <th>stop_code</th>\n",
              "      <th>stop_name</th>\n",
              "      <th>stop_lat</th>\n",
              "      <th>stop_lon</th>\n",
              "    </tr>\n",
              "  </thead>\n",
              "  <tbody>\n",
              "    <tr>\n",
              "      <th>9586</th>\n",
              "      <td>9741</td>\n",
              "      <td>NaN</td>\n",
              "      <td>Vidhya Vihar Marg</td>\n",
              "      <td>28.721689</td>\n",
              "      <td>77.127519</td>\n",
              "    </tr>\n",
              "    <tr>\n",
              "      <th>9587</th>\n",
              "      <td>9742</td>\n",
              "      <td>NaN</td>\n",
              "      <td>Rohini Sec-18 B.Block</td>\n",
              "      <td>28.745060</td>\n",
              "      <td>77.137833</td>\n",
              "    </tr>\n",
              "    <tr>\n",
              "      <th>9588</th>\n",
              "      <td>9743</td>\n",
              "      <td>NaN</td>\n",
              "      <td>Model Basti</td>\n",
              "      <td>28.666727</td>\n",
              "      <td>77.169554</td>\n",
              "    </tr>\n",
              "    <tr>\n",
              "      <th>9589</th>\n",
              "      <td>9744</td>\n",
              "      <td>NaN</td>\n",
              "      <td>Nangloi JJ Colony Lokesh Cinema</td>\n",
              "      <td>28.682305</td>\n",
              "      <td>77.059387</td>\n",
              "    </tr>\n",
              "    <tr>\n",
              "      <th>9590</th>\n",
              "      <td>9745</td>\n",
              "      <td>NaN</td>\n",
              "      <td>Dwarka Sec-22/23 Xing</td>\n",
              "      <td>28.575480</td>\n",
              "      <td>77.111447</td>\n",
              "    </tr>\n",
              "  </tbody>\n",
              "</table>\n",
              "</div>"
            ],
            "text/plain": [
              "      stop_id stop_code                        stop_name   stop_lat   stop_lon\n",
              "9586     9741       NaN                Vidhya Vihar Marg  28.721689  77.127519\n",
              "9587     9742       NaN            Rohini Sec-18 B.Block  28.745060  77.137833\n",
              "9588     9743       NaN                      Model Basti  28.666727  77.169554\n",
              "9589     9744       NaN  Nangloi JJ Colony Lokesh Cinema  28.682305  77.059387\n",
              "9590     9745       NaN            Dwarka Sec-22/23 Xing  28.575480  77.111447"
            ]
          },
          "metadata": {},
          "execution_count": 7
        }
      ]
    },
    {
      "cell_type": "code",
      "source": [
        "stop_loc = {}\n",
        "for i in range(len(stops_data)):\n",
        "  id = stops_data['stop_id'][i]\n",
        "  lat = stops_data['stop_lat'][i]\n",
        "  lon = stops_data['stop_lon'][i]\n",
        "  loc = [lat,lon]\n",
        "  stop_loc[id] = loc\n",
        "  \n"
      ],
      "metadata": {
        "id": "6sl_gTM39auk"
      },
      "execution_count": null,
      "outputs": []
    },
    {
      "cell_type": "code",
      "source": [
        "r_stop.head()"
      ],
      "metadata": {
        "colab": {
          "base_uri": "https://localhost:8080/",
          "height": 206
        },
        "id": "TfM5mcyyAwIK",
        "outputId": "f940fcb1-09cb-40af-ad1c-e909bfcb2bef"
      },
      "execution_count": null,
      "outputs": [
        {
          "output_type": "execute_result",
          "data": {
            "text/html": [
              "<div>\n",
              "<style scoped>\n",
              "    .dataframe tbody tr th:only-of-type {\n",
              "        vertical-align: middle;\n",
              "    }\n",
              "\n",
              "    .dataframe tbody tr th {\n",
              "        vertical-align: top;\n",
              "    }\n",
              "\n",
              "    .dataframe thead th {\n",
              "        text-align: right;\n",
              "    }\n",
              "</style>\n",
              "<table border=\"1\" class=\"dataframe\">\n",
              "  <thead>\n",
              "    <tr style=\"text-align: right;\">\n",
              "      <th></th>\n",
              "      <th>Unnamed: 0</th>\n",
              "      <th>route_id</th>\n",
              "      <th>stop_id</th>\n",
              "    </tr>\n",
              "  </thead>\n",
              "  <tbody>\n",
              "    <tr>\n",
              "      <th>0</th>\n",
              "      <td>0</td>\n",
              "      <td>0</td>\n",
              "      <td>0</td>\n",
              "    </tr>\n",
              "    <tr>\n",
              "      <th>1</th>\n",
              "      <td>1</td>\n",
              "      <td>0</td>\n",
              "      <td>1</td>\n",
              "    </tr>\n",
              "    <tr>\n",
              "      <th>2</th>\n",
              "      <td>2</td>\n",
              "      <td>0</td>\n",
              "      <td>2</td>\n",
              "    </tr>\n",
              "    <tr>\n",
              "      <th>3</th>\n",
              "      <td>3</td>\n",
              "      <td>0</td>\n",
              "      <td>3</td>\n",
              "    </tr>\n",
              "    <tr>\n",
              "      <th>4</th>\n",
              "      <td>4</td>\n",
              "      <td>0</td>\n",
              "      <td>4</td>\n",
              "    </tr>\n",
              "  </tbody>\n",
              "</table>\n",
              "</div>"
            ],
            "text/plain": [
              "   Unnamed: 0  route_id  stop_id\n",
              "0           0         0        0\n",
              "1           1         0        1\n",
              "2           2         0        2\n",
              "3           3         0        3\n",
              "4           4         0        4"
            ]
          },
          "metadata": {},
          "execution_count": 12
        }
      ]
    },
    {
      "cell_type": "code",
      "source": [
        "!unzip /content/drive/MyDrive/endsem/bus_movements_2021_08_01.db.zip > /dev/null"
      ],
      "metadata": {
        "id": "FZc5ILFr_TC0"
      },
      "execution_count": null,
      "outputs": []
    },
    {
      "cell_type": "code",
      "source": [
        "import pandas as pd\n",
        "import sqlite3\n",
        "\n",
        "# Read sqlite query results into a pandas DataFrame\n",
        "con = sqlite3.connect(\"/content/bus_movements_2021_08_01.db\")\n",
        "df = pd.read_sql_query(\"SELECT * from vehicle_feed\", con)\n",
        "\n",
        "# Verify that result of SQL query is stored in the dataframe\n",
        "#print(df.head())\n",
        "\n",
        "con.close()"
      ],
      "metadata": {
        "id": "ubI0pAxk_TFm"
      },
      "execution_count": null,
      "outputs": []
    },
    {
      "cell_type": "code",
      "source": [
        "df.head()"
      ],
      "metadata": {
        "colab": {
          "base_uri": "https://localhost:8080/",
          "height": 206
        },
        "id": "EpXvU3ap_TIf",
        "outputId": "6cdf9649-4490-4902-8fb6-81f9f07306b0"
      },
      "execution_count": null,
      "outputs": [
        {
          "output_type": "execute_result",
          "data": {
            "text/html": [
              "<div>\n",
              "<style scoped>\n",
              "    .dataframe tbody tr th:only-of-type {\n",
              "        vertical-align: middle;\n",
              "    }\n",
              "\n",
              "    .dataframe tbody tr th {\n",
              "        vertical-align: top;\n",
              "    }\n",
              "\n",
              "    .dataframe thead th {\n",
              "        text-align: right;\n",
              "    }\n",
              "</style>\n",
              "<table border=\"1\" class=\"dataframe\">\n",
              "  <thead>\n",
              "    <tr style=\"text-align: right;\">\n",
              "      <th></th>\n",
              "      <th>vehicle_id</th>\n",
              "      <th>lat</th>\n",
              "      <th>lng</th>\n",
              "      <th>speed</th>\n",
              "      <th>route_id</th>\n",
              "      <th>trip_id</th>\n",
              "      <th>timestamp</th>\n",
              "      <th>date</th>\n",
              "      <th>time</th>\n",
              "    </tr>\n",
              "  </thead>\n",
              "  <tbody>\n",
              "    <tr>\n",
              "      <th>0</th>\n",
              "      <td>DL1PD2506</td>\n",
              "      <td>28.6210384368896</td>\n",
              "      <td>76.9307708740234</td>\n",
              "      <td>0.0</td>\n",
              "      <td>1061.0</td>\n",
              "      <td>1061_17_10</td>\n",
              "      <td>1627756188</td>\n",
              "      <td>2021-07-31</td>\n",
              "      <td>00:00:03</td>\n",
              "    </tr>\n",
              "    <tr>\n",
              "      <th>1</th>\n",
              "      <td>DL1PD5292</td>\n",
              "      <td>28.6998844146729</td>\n",
              "      <td>77.0356063842773</td>\n",
              "      <td>0.0</td>\n",
              "      <td>895.0</td>\n",
              "      <td>895_20_10</td>\n",
              "      <td>1627756169</td>\n",
              "      <td>2021-07-31</td>\n",
              "      <td>00:00:03</td>\n",
              "    </tr>\n",
              "    <tr>\n",
              "      <th>2</th>\n",
              "      <td>DL1PD5053</td>\n",
              "      <td>28.6994438171387</td>\n",
              "      <td>77.0348968505859</td>\n",
              "      <td>0.0</td>\n",
              "      <td>250.0</td>\n",
              "      <td>250_17_20</td>\n",
              "      <td>1627756152</td>\n",
              "      <td>2021-07-31</td>\n",
              "      <td>00:00:03</td>\n",
              "    </tr>\n",
              "    <tr>\n",
              "      <th>3</th>\n",
              "      <td>DL1PD4123</td>\n",
              "      <td>28.5546207427979</td>\n",
              "      <td>77.0534515380859</td>\n",
              "      <td>0.0</td>\n",
              "      <td>484.0</td>\n",
              "      <td>484_19_30</td>\n",
              "      <td>1627755988</td>\n",
              "      <td>2021-07-31</td>\n",
              "      <td>00:00:03</td>\n",
              "    </tr>\n",
              "    <tr>\n",
              "      <th>4</th>\n",
              "      <td>DL1PD4688</td>\n",
              "      <td>28.7002754211426</td>\n",
              "      <td>77.0350036621094</td>\n",
              "      <td>0.0</td>\n",
              "      <td>674.0</td>\n",
              "      <td>674_20_50</td>\n",
              "      <td>1627756192</td>\n",
              "      <td>2021-07-31</td>\n",
              "      <td>00:00:03</td>\n",
              "    </tr>\n",
              "  </tbody>\n",
              "</table>\n",
              "</div>"
            ],
            "text/plain": [
              "  vehicle_id               lat  ...        date      time\n",
              "0  DL1PD2506  28.6210384368896  ...  2021-07-31  00:00:03\n",
              "1  DL1PD5292  28.6998844146729  ...  2021-07-31  00:00:03\n",
              "2  DL1PD5053  28.6994438171387  ...  2021-07-31  00:00:03\n",
              "3  DL1PD4123  28.5546207427979  ...  2021-07-31  00:00:03\n",
              "4  DL1PD4688  28.7002754211426  ...  2021-07-31  00:00:03\n",
              "\n",
              "[5 rows x 9 columns]"
            ]
          },
          "metadata": {},
          "execution_count": 11
        }
      ]
    },
    {
      "cell_type": "code",
      "source": [
        "stop_route_dic = {}\n",
        "for i in range(len(r_stop)):\n",
        "  stop = int(r_stop['stop_id'][i])\n",
        "  route = int(r_stop['route_id'][i])\n",
        "\n",
        "  if(stop not in stop_route_dic):\n",
        "    stop_route_dic[stop] = set([])\n",
        "  stop_route_dic[stop].add(route)\n"
      ],
      "metadata": {
        "id": "WW8SEZ2m_TLH"
      },
      "execution_count": null,
      "outputs": []
    },
    {
      "cell_type": "code",
      "source": [
        "route_stop_dic = {}\n",
        "for i in range(len(r_stop)):\n",
        "  stop = int(r_stop['stop_id'][i])\n",
        "  route = int(r_stop['route_id'][i])\n",
        "\n",
        "  if(route not in route_stop_dic):\n",
        "    route_stop_dic[route] = set([])\n",
        "  route_stop_dic[route].add(stop)\n"
      ],
      "metadata": {
        "id": "2a5ntuJkDoXo"
      },
      "execution_count": null,
      "outputs": []
    },
    {
      "cell_type": "code",
      "source": [
        "route_vehical_dic = {}\n",
        "for i in range(len(df)):\n",
        "  vehical = str(df['vehicle_id'][i])\n",
        "  route = int(df['route_id'][i])\n",
        "\n",
        "  if(route not in route_vehical_dic):\n",
        "    route_vehical_dic[route] = set([])\n",
        "  route_vehical_dic[route].add(vehical)\n"
      ],
      "metadata": {
        "id": "odQXwH6f-X1G"
      },
      "execution_count": null,
      "outputs": []
    },
    {
      "cell_type": "markdown",
      "source": [
        "**1.b**"
      ],
      "metadata": {
        "id": "8sxgKzracEoJ"
      }
    },
    {
      "cell_type": "code",
      "source": [
        "total_buses = {}\n",
        "stop_vehicle_dic = {}\n",
        "for i in stop_route_dic:\n",
        "  total_buses[i] = 0\n",
        "  stop_vehicle_dic[i] = []\n",
        "  for j in stop_route_dic[i]:\n",
        "    if(j not in route_vehical_dic):\n",
        "      continue\n",
        "    else:\n",
        "      total_buses[i] += len(route_vehical_dic[j])\n",
        "      \n",
        "      for t in route_vehical_dic[j]:\n",
        "        stop_vehicle_dic[i].append(t)"
      ],
      "metadata": {
        "id": "dS3_Ca8N-eky"
      },
      "execution_count": null,
      "outputs": []
    },
    {
      "cell_type": "markdown",
      "source": [
        "**1.c**"
      ],
      "metadata": {
        "id": "iCYe78NScJpV"
      }
    },
    {
      "cell_type": "code",
      "source": [
        ""
      ],
      "metadata": {
        "id": "wpO8CiMPDYut"
      },
      "execution_count": null,
      "outputs": []
    },
    {
      "cell_type": "code",
      "source": [
        "import numpy as np\n",
        "import math\n",
        "def find_stop_reached_in_route(stop_lat,stop_lon, bus_lats,bus_lons):\n",
        "  bus_lats = bus_lats.astype(np.float64)\n",
        "  bus_lons = bus_lons.astype(np.float64)\n",
        "  stst = 6367 * 2 * np.arcsin(np.sqrt(\n",
        "  np.sin((np.radians(bus_lats) - math.radians(stop_lat)) / 2) ** 2 + math.cos(\n",
        "  math.radians(stop_lat)) * np.cos(np.radians(bus_lats)) * np.sin(\n",
        "  (np.radians(bus_lons) - math.radians(stop_lon)) / 2) ** 2))\n",
        "  if len(np.where(stst <= 0.1)[0].tolist())>0:\n",
        "    return True\n",
        "  else:\n",
        "    return False"
      ],
      "metadata": {
        "id": "qeLrGoMNDXoC"
      },
      "execution_count": null,
      "outputs": []
    },
    {
      "cell_type": "code",
      "source": [
        "total_passed_buses={}\n",
        "for stop in stop_vehicle_dic:\n",
        "  count=0\n",
        "  stop_lat=stop_loc[stop][0]\n",
        "  stop_lng=stop_loc[stop][1]\n",
        "  con = sqlite3.connect(\"/content/bus_movements_2021_08_01.db\")\n",
        "  for vhc in set(stop_vehicle_dic):\n",
        "    datafr = pd.read_sql_query(\"SELECT lat,lng,route_id from vehicle_feed WHERE vehicle_id=\"+\"'\"+str(vhc)+\"'\", con)\n",
        "    datafr.set_index('route_id',inplace=True)\n",
        "    datafr_routewise=datafr.groupby(datafr.index)\n",
        "    for route in datafr_routewise.groups:\n",
        "      if(stop in route_stop_dic[route]):\n",
        "        temp_df=datafr_routewise.get_group(route)\n",
        "        if(find_stop_reached_in_route(stop_lat,stop_lng,temp_df['lat'],temp_df['lng'])==True):\n",
        "          count+=1\n",
        "  total_passed_buses[stop]=count \n",
        "  break  \n",
        "con.close()\n",
        "print(count)"
      ],
      "metadata": {
        "colab": {
          "base_uri": "https://localhost:8080/"
        },
        "id": "AYKsTxii_TVk",
        "outputId": "b85c55e1-6653-4504-983f-40e4859c12c7"
      },
      "execution_count": null,
      "outputs": [
        {
          "output_type": "stream",
          "name": "stdout",
          "text": [
            "0\n"
          ]
        }
      ]
    },
    {
      "cell_type": "markdown",
      "source": [
        "**1.d**"
      ],
      "metadata": {
        "id": "YY20LuzocSlo"
      }
    },
    {
      "cell_type": "code",
      "source": [
        "ratio = {}\n",
        "for i in total_buses:\n",
        "  ratio[i] = total_buses/total_passed_buses"
      ],
      "metadata": {
        "id": "fmb4DXl-EEuR"
      },
      "execution_count": null,
      "outputs": []
    },
    {
      "cell_type": "code",
      "source": [
        ""
      ],
      "metadata": {
        "id": "g03Za14AG46V"
      },
      "execution_count": null,
      "outputs": []
    },
    {
      "cell_type": "markdown",
      "source": [
        "**1.e**"
      ],
      "metadata": {
        "id": "8C2j2ri4cZ6B"
      }
    },
    {
      "cell_type": "code",
      "source": [
        "t_bus = []\n",
        "for i in total_buses:\n",
        "  t_bus.append(i)\n",
        "\n",
        "stop_data.insert(1, \"total_buses\", t_bus, True)"
      ],
      "metadata": {
        "id": "0E20pBaYG5I1"
      },
      "execution_count": null,
      "outputs": []
    },
    {
      "cell_type": "code",
      "source": [
        "t_bus_p = []\n",
        "for i in total_passed_buses:\n",
        "  t_bus_p.append(i)\n",
        "\n",
        "stop_data.insert(2, \"total_passed_buses\", t_bus_p, True)"
      ],
      "metadata": {
        "id": "3jUzMivjHn4v"
      },
      "execution_count": null,
      "outputs": []
    },
    {
      "cell_type": "code",
      "source": [
        "rt = []\n",
        "for i in ratio:\n",
        "  rt.append(i)\n",
        "\n",
        "stop_data.insert(3, \"ratio\", rt, True)"
      ],
      "metadata": {
        "id": "RxiaPkGcH3d1"
      },
      "execution_count": null,
      "outputs": []
    },
    {
      "cell_type": "markdown",
      "source": [
        "**1.f**"
      ],
      "metadata": {
        "id": "IiGO5CfyciJx"
      }
    },
    {
      "cell_type": "code",
      "source": [
        "final = stop_data[stop_data['total_buses'] >= 5]"
      ],
      "metadata": {
        "id": "ggrt-LzvTNk_"
      },
      "execution_count": null,
      "outputs": []
    },
    {
      "cell_type": "code",
      "source": [
        "final.sort_values([\"total_buses\"], \n",
        "                    axis=0,\n",
        "                    ascending=[True], \n",
        "                    inplace=True)"
      ],
      "metadata": {
        "id": "AMxoELMMRj0w"
      },
      "execution_count": null,
      "outputs": []
    },
    {
      "cell_type": "code",
      "source": [
        "final.to_csv('final_data.csv')"
      ],
      "metadata": {
        "id": "--w-ere1NmEZ"
      },
      "execution_count": null,
      "outputs": []
    },
    {
      "cell_type": "code",
      "source": [
        ""
      ],
      "metadata": {
        "id": "xWMew7oLPT3a"
      },
      "execution_count": null,
      "outputs": []
    },
    {
      "cell_type": "markdown",
      "source": [
        "**Solution-2**"
      ],
      "metadata": {
        "id": "H1UNnvd2PWCw"
      }
    },
    {
      "cell_type": "markdown",
      "source": [
        "**2.1**"
      ],
      "metadata": {
        "id": "1BhZAbvMbpbV"
      }
    },
    {
      "cell_type": "code",
      "source": [
        "import pandas as pd\n",
        "data = pd.read_csv('final_data.csv')"
      ],
      "metadata": {
        "id": "BmwR6cZwPcZT"
      },
      "execution_count": null,
      "outputs": []
    },
    {
      "cell_type": "code",
      "source": [
        "data.head()"
      ],
      "metadata": {
        "colab": {
          "base_uri": "https://localhost:8080/",
          "height": 206
        },
        "id": "KgcwHqQFP0GC",
        "outputId": "28f3f5ee-5e5b-43b7-9e26-1534fb2124da"
      },
      "execution_count": null,
      "outputs": [
        {
          "output_type": "execute_result",
          "data": {
            "text/html": [
              "<div>\n",
              "<style scoped>\n",
              "    .dataframe tbody tr th:only-of-type {\n",
              "        vertical-align: middle;\n",
              "    }\n",
              "\n",
              "    .dataframe tbody tr th {\n",
              "        vertical-align: top;\n",
              "    }\n",
              "\n",
              "    .dataframe thead th {\n",
              "        text-align: right;\n",
              "    }\n",
              "</style>\n",
              "<table border=\"1\" class=\"dataframe\">\n",
              "  <thead>\n",
              "    <tr style=\"text-align: right;\">\n",
              "      <th></th>\n",
              "      <th>stop_id</th>\n",
              "      <th>total_buses</th>\n",
              "      <th>total_passed_buses</th>\n",
              "      <th>ratio</th>\n",
              "      <th>stop_code</th>\n",
              "      <th>stop_name</th>\n",
              "      <th>stop_lat</th>\n",
              "      <th>stop_lon</th>\n",
              "    </tr>\n",
              "  </thead>\n",
              "  <tbody>\n",
              "    <tr>\n",
              "      <th>0</th>\n",
              "      <td>3987</td>\n",
              "      <td>5</td>\n",
              "      <td>3</td>\n",
              "      <td>0.6</td>\n",
              "      <td>U02079</td>\n",
              "      <td>Akbar Bhawan</td>\n",
              "      <td>28.586000</td>\n",
              "      <td>77.191100</td>\n",
              "    </tr>\n",
              "    <tr>\n",
              "      <th>1</th>\n",
              "      <td>4122</td>\n",
              "      <td>5</td>\n",
              "      <td>5</td>\n",
              "      <td>1.0</td>\n",
              "      <td>NaN</td>\n",
              "      <td>Sarita Vihar K Block</td>\n",
              "      <td>28.538333</td>\n",
              "      <td>77.291867</td>\n",
              "    </tr>\n",
              "    <tr>\n",
              "      <th>2</th>\n",
              "      <td>2896</td>\n",
              "      <td>5</td>\n",
              "      <td>4</td>\n",
              "      <td>0.8</td>\n",
              "      <td>U00742</td>\n",
              "      <td>Krishna Park</td>\n",
              "      <td>28.639100</td>\n",
              "      <td>77.081900</td>\n",
              "    </tr>\n",
              "    <tr>\n",
              "      <th>3</th>\n",
              "      <td>3979</td>\n",
              "      <td>5</td>\n",
              "      <td>5</td>\n",
              "      <td>1.0</td>\n",
              "      <td>U01724</td>\n",
              "      <td>Vasant Vihar Poorvi Marg</td>\n",
              "      <td>28.561300</td>\n",
              "      <td>77.169000</td>\n",
              "    </tr>\n",
              "    <tr>\n",
              "      <th>4</th>\n",
              "      <td>3978</td>\n",
              "      <td>5</td>\n",
              "      <td>5</td>\n",
              "      <td>1.0</td>\n",
              "      <td>U01275</td>\n",
              "      <td>NHW 8</td>\n",
              "      <td>28.569183</td>\n",
              "      <td>77.132600</td>\n",
              "    </tr>\n",
              "  </tbody>\n",
              "</table>\n",
              "</div>"
            ],
            "text/plain": [
              "   stop_id  total_buses  ...   stop_lat   stop_lon\n",
              "0     3987            5  ...  28.586000  77.191100\n",
              "1     4122            5  ...  28.538333  77.291867\n",
              "2     2896            5  ...  28.639100  77.081900\n",
              "3     3979            5  ...  28.561300  77.169000\n",
              "4     3978            5  ...  28.569183  77.132600\n",
              "\n",
              "[5 rows x 8 columns]"
            ]
          },
          "metadata": {},
          "execution_count": 11
        }
      ]
    },
    {
      "cell_type": "code",
      "source": [
        "import bokeh\n",
        "from bokeh.plotting import figure, show, output_notebook\n",
        "\n",
        "x = data['stop_id']\n",
        "y = data['ratio']\n",
        "\n",
        "p = figure(title = \"first line plot\", \n",
        "           x_axis_label  =\"stop_id\",\n",
        "           y_axis_label =  \"ratio\",\n",
        "           )\n",
        "\n",
        "\n",
        "p.vbar(x = x, top = y, line_width=1)"
      ],
      "metadata": {
        "colab": {
          "base_uri": "https://localhost:8080/",
          "height": 34
        },
        "id": "O7NVslYCP5ES",
        "outputId": "2440de2e-fe25-4bc5-fcb3-05f59bb632c4"
      },
      "execution_count": 22,
      "outputs": [
        {
          "output_type": "execute_result",
          "data": {
            "text/html": [
              "<div style=\"display: table;\"><div style=\"display: table-row;\"><div style=\"display: table-cell;\"><b title=\"bokeh.models.renderers.GlyphRenderer\">GlyphRenderer</b>(</div><div style=\"display: table-cell;\">id&nbsp;=&nbsp;'1676', <span id=\"1679\" style=\"cursor: pointer;\">&hellip;)</span></div></div><div class=\"1678\" style=\"display: none;\"><div style=\"display: table-cell;\"></div><div style=\"display: table-cell;\">data_source&nbsp;=&nbsp;ColumnDataSource(id='1673', ...),</div></div><div class=\"1678\" style=\"display: none;\"><div style=\"display: table-cell;\"></div><div style=\"display: table-cell;\">glyph&nbsp;=&nbsp;VBar(id='1674', ...),</div></div><div class=\"1678\" style=\"display: none;\"><div style=\"display: table-cell;\"></div><div style=\"display: table-cell;\">hover_glyph&nbsp;=&nbsp;None,</div></div><div class=\"1678\" style=\"display: none;\"><div style=\"display: table-cell;\"></div><div style=\"display: table-cell;\">js_event_callbacks&nbsp;=&nbsp;{},</div></div><div class=\"1678\" style=\"display: none;\"><div style=\"display: table-cell;\"></div><div style=\"display: table-cell;\">js_property_callbacks&nbsp;=&nbsp;{},</div></div><div class=\"1678\" style=\"display: none;\"><div style=\"display: table-cell;\"></div><div style=\"display: table-cell;\">level&nbsp;=&nbsp;'glyph',</div></div><div class=\"1678\" style=\"display: none;\"><div style=\"display: table-cell;\"></div><div style=\"display: table-cell;\">muted&nbsp;=&nbsp;False,</div></div><div class=\"1678\" style=\"display: none;\"><div style=\"display: table-cell;\"></div><div style=\"display: table-cell;\">muted_glyph&nbsp;=&nbsp;None,</div></div><div class=\"1678\" style=\"display: none;\"><div style=\"display: table-cell;\"></div><div style=\"display: table-cell;\">name&nbsp;=&nbsp;None,</div></div><div class=\"1678\" style=\"display: none;\"><div style=\"display: table-cell;\"></div><div style=\"display: table-cell;\">nonselection_glyph&nbsp;=&nbsp;VBar(id='1675', ...),</div></div><div class=\"1678\" style=\"display: none;\"><div style=\"display: table-cell;\"></div><div style=\"display: table-cell;\">selection_glyph&nbsp;=&nbsp;'auto',</div></div><div class=\"1678\" style=\"display: none;\"><div style=\"display: table-cell;\"></div><div style=\"display: table-cell;\">subscribed_events&nbsp;=&nbsp;[],</div></div><div class=\"1678\" style=\"display: none;\"><div style=\"display: table-cell;\"></div><div style=\"display: table-cell;\">syncable&nbsp;=&nbsp;True,</div></div><div class=\"1678\" style=\"display: none;\"><div style=\"display: table-cell;\"></div><div style=\"display: table-cell;\">tags&nbsp;=&nbsp;[],</div></div><div class=\"1678\" style=\"display: none;\"><div style=\"display: table-cell;\"></div><div style=\"display: table-cell;\">view&nbsp;=&nbsp;CDSView(id='1677', ...),</div></div><div class=\"1678\" style=\"display: none;\"><div style=\"display: table-cell;\"></div><div style=\"display: table-cell;\">visible&nbsp;=&nbsp;True,</div></div><div class=\"1678\" style=\"display: none;\"><div style=\"display: table-cell;\"></div><div style=\"display: table-cell;\">x_range_name&nbsp;=&nbsp;'default',</div></div><div class=\"1678\" style=\"display: none;\"><div style=\"display: table-cell;\"></div><div style=\"display: table-cell;\">y_range_name&nbsp;=&nbsp;'default')</div></div></div>\n",
              "<script>\n",
              "(function() {\n",
              "  var expanded = false;\n",
              "  var ellipsis = document.getElementById(\"1679\");\n",
              "  ellipsis.addEventListener(\"click\", function() {\n",
              "    var rows = document.getElementsByClassName(\"1678\");\n",
              "    for (var i = 0; i < rows.length; i++) {\n",
              "      var el = rows[i];\n",
              "      el.style.display = expanded ? \"none\" : \"table-row\";\n",
              "    }\n",
              "    ellipsis.innerHTML = expanded ? \"&hellip;)\" : \"&lsaquo;&lsaquo;&lsaquo;\";\n",
              "    expanded = !expanded;\n",
              "  });\n",
              "})();\n",
              "</script>\n"
            ],
            "text/plain": [
              "GlyphRenderer(id='1676', ...)"
            ]
          },
          "metadata": {},
          "execution_count": 22
        }
      ]
    },
    {
      "cell_type": "code",
      "source": [
        "output_notebook()\n",
        "show(p)"
      ],
      "metadata": {
        "colab": {
          "base_uri": "https://localhost:8080/",
          "height": 617
        },
        "id": "mIItXhGZQ4Lc",
        "outputId": "fc63275f-d4ab-4c66-b024-078765497574"
      },
      "execution_count": 23,
      "outputs": [
        {
          "output_type": "display_data",
          "data": {
            "application/javascript": [
              "\n",
              "(function(root) {\n",
              "  function now() {\n",
              "    return new Date();\n",
              "  }\n",
              "\n",
              "  var force = true;\n",
              "\n",
              "  if (typeof root._bokeh_onload_callbacks === \"undefined\" || force === true) {\n",
              "    root._bokeh_onload_callbacks = [];\n",
              "    root._bokeh_is_loading = undefined;\n",
              "  }\n",
              "\n",
              "  var JS_MIME_TYPE = 'application/javascript';\n",
              "  var HTML_MIME_TYPE = 'text/html';\n",
              "  var EXEC_MIME_TYPE = 'application/vnd.bokehjs_exec.v0+json';\n",
              "  var CLASS_NAME = 'output_bokeh rendered_html';\n",
              "\n",
              "  /**\n",
              "   * Render data to the DOM node\n",
              "   */\n",
              "  function render(props, node) {\n",
              "    var script = document.createElement(\"script\");\n",
              "    node.appendChild(script);\n",
              "  }\n",
              "\n",
              "  /**\n",
              "   * Handle when an output is cleared or removed\n",
              "   */\n",
              "  function handleClearOutput(event, handle) {\n",
              "    var cell = handle.cell;\n",
              "\n",
              "    var id = cell.output_area._bokeh_element_id;\n",
              "    var server_id = cell.output_area._bokeh_server_id;\n",
              "    // Clean up Bokeh references\n",
              "    if (id != null && id in Bokeh.index) {\n",
              "      Bokeh.index[id].model.document.clear();\n",
              "      delete Bokeh.index[id];\n",
              "    }\n",
              "\n",
              "    if (server_id !== undefined) {\n",
              "      // Clean up Bokeh references\n",
              "      var cmd = \"from bokeh.io.state import curstate; print(curstate().uuid_to_server['\" + server_id + \"'].get_sessions()[0].document.roots[0]._id)\";\n",
              "      cell.notebook.kernel.execute(cmd, {\n",
              "        iopub: {\n",
              "          output: function(msg) {\n",
              "            var id = msg.content.text.trim();\n",
              "            if (id in Bokeh.index) {\n",
              "              Bokeh.index[id].model.document.clear();\n",
              "              delete Bokeh.index[id];\n",
              "            }\n",
              "          }\n",
              "        }\n",
              "      });\n",
              "      // Destroy server and session\n",
              "      var cmd = \"import bokeh.io.notebook as ion; ion.destroy_server('\" + server_id + \"')\";\n",
              "      cell.notebook.kernel.execute(cmd);\n",
              "    }\n",
              "  }\n",
              "\n",
              "  /**\n",
              "   * Handle when a new output is added\n",
              "   */\n",
              "  function handleAddOutput(event, handle) {\n",
              "    var output_area = handle.output_area;\n",
              "    var output = handle.output;\n",
              "\n",
              "    // limit handleAddOutput to display_data with EXEC_MIME_TYPE content only\n",
              "    if ((output.output_type != \"display_data\") || (!Object.prototype.hasOwnProperty.call(output.data, EXEC_MIME_TYPE))) {\n",
              "      return\n",
              "    }\n",
              "\n",
              "    var toinsert = output_area.element.find(\".\" + CLASS_NAME.split(' ')[0]);\n",
              "\n",
              "    if (output.metadata[EXEC_MIME_TYPE][\"id\"] !== undefined) {\n",
              "      toinsert[toinsert.length - 1].firstChild.textContent = output.data[JS_MIME_TYPE];\n",
              "      // store reference to embed id on output_area\n",
              "      output_area._bokeh_element_id = output.metadata[EXEC_MIME_TYPE][\"id\"];\n",
              "    }\n",
              "    if (output.metadata[EXEC_MIME_TYPE][\"server_id\"] !== undefined) {\n",
              "      var bk_div = document.createElement(\"div\");\n",
              "      bk_div.innerHTML = output.data[HTML_MIME_TYPE];\n",
              "      var script_attrs = bk_div.children[0].attributes;\n",
              "      for (var i = 0; i < script_attrs.length; i++) {\n",
              "        toinsert[toinsert.length - 1].firstChild.setAttribute(script_attrs[i].name, script_attrs[i].value);\n",
              "        toinsert[toinsert.length - 1].firstChild.textContent = bk_div.children[0].textContent\n",
              "      }\n",
              "      // store reference to server id on output_area\n",
              "      output_area._bokeh_server_id = output.metadata[EXEC_MIME_TYPE][\"server_id\"];\n",
              "    }\n",
              "  }\n",
              "\n",
              "  function register_renderer(events, OutputArea) {\n",
              "\n",
              "    function append_mime(data, metadata, element) {\n",
              "      // create a DOM node to render to\n",
              "      var toinsert = this.create_output_subarea(\n",
              "        metadata,\n",
              "        CLASS_NAME,\n",
              "        EXEC_MIME_TYPE\n",
              "      );\n",
              "      this.keyboard_manager.register_events(toinsert);\n",
              "      // Render to node\n",
              "      var props = {data: data, metadata: metadata[EXEC_MIME_TYPE]};\n",
              "      render(props, toinsert[toinsert.length - 1]);\n",
              "      element.append(toinsert);\n",
              "      return toinsert\n",
              "    }\n",
              "\n",
              "    /* Handle when an output is cleared or removed */\n",
              "    events.on('clear_output.CodeCell', handleClearOutput);\n",
              "    events.on('delete.Cell', handleClearOutput);\n",
              "\n",
              "    /* Handle when a new output is added */\n",
              "    events.on('output_added.OutputArea', handleAddOutput);\n",
              "\n",
              "    /**\n",
              "     * Register the mime type and append_mime function with output_area\n",
              "     */\n",
              "    OutputArea.prototype.register_mime_type(EXEC_MIME_TYPE, append_mime, {\n",
              "      /* Is output safe? */\n",
              "      safe: true,\n",
              "      /* Index of renderer in `output_area.display_order` */\n",
              "      index: 0\n",
              "    });\n",
              "  }\n",
              "\n",
              "  // register the mime type if in Jupyter Notebook environment and previously unregistered\n",
              "  if (root.Jupyter !== undefined) {\n",
              "    var events = require('base/js/events');\n",
              "    var OutputArea = require('notebook/js/outputarea').OutputArea;\n",
              "\n",
              "    if (OutputArea.prototype.mime_types().indexOf(EXEC_MIME_TYPE) == -1) {\n",
              "      register_renderer(events, OutputArea);\n",
              "    }\n",
              "  }\n",
              "\n",
              "  \n",
              "  if (typeof (root._bokeh_timeout) === \"undefined\" || force === true) {\n",
              "    root._bokeh_timeout = Date.now() + 5000;\n",
              "    root._bokeh_failed_load = false;\n",
              "  }\n",
              "\n",
              "  var NB_LOAD_WARNING = {'data': {'text/html':\n",
              "     \"<div style='background-color: #fdd'>\\n\"+\n",
              "     \"<p>\\n\"+\n",
              "     \"BokehJS does not appear to have successfully loaded. If loading BokehJS from CDN, this \\n\"+\n",
              "     \"may be due to a slow or bad network connection. Possible fixes:\\n\"+\n",
              "     \"</p>\\n\"+\n",
              "     \"<ul>\\n\"+\n",
              "     \"<li>re-rerun `output_notebook()` to attempt to load from CDN again, or</li>\\n\"+\n",
              "     \"<li>use INLINE resources instead, as so:</li>\\n\"+\n",
              "     \"</ul>\\n\"+\n",
              "     \"<code>\\n\"+\n",
              "     \"from bokeh.resources import INLINE\\n\"+\n",
              "     \"output_notebook(resources=INLINE)\\n\"+\n",
              "     \"</code>\\n\"+\n",
              "     \"</div>\"}};\n",
              "\n",
              "  function display_loaded() {\n",
              "    var el = document.getElementById(null);\n",
              "    if (el != null) {\n",
              "      el.textContent = \"BokehJS is loading...\";\n",
              "    }\n",
              "    if (root.Bokeh !== undefined) {\n",
              "      if (el != null) {\n",
              "        el.textContent = \"BokehJS \" + root.Bokeh.version + \" successfully loaded.\";\n",
              "      }\n",
              "    } else if (Date.now() < root._bokeh_timeout) {\n",
              "      setTimeout(display_loaded, 100)\n",
              "    }\n",
              "  }\n",
              "\n",
              "\n",
              "  function run_callbacks() {\n",
              "    try {\n",
              "      root._bokeh_onload_callbacks.forEach(function(callback) {\n",
              "        if (callback != null)\n",
              "          callback();\n",
              "      });\n",
              "    } finally {\n",
              "      delete root._bokeh_onload_callbacks\n",
              "    }\n",
              "    console.debug(\"Bokeh: all callbacks have finished\");\n",
              "  }\n",
              "\n",
              "  function load_libs(css_urls, js_urls, callback) {\n",
              "    if (css_urls == null) css_urls = [];\n",
              "    if (js_urls == null) js_urls = [];\n",
              "\n",
              "    root._bokeh_onload_callbacks.push(callback);\n",
              "    if (root._bokeh_is_loading > 0) {\n",
              "      console.debug(\"Bokeh: BokehJS is being loaded, scheduling callback at\", now());\n",
              "      return null;\n",
              "    }\n",
              "    if (js_urls == null || js_urls.length === 0) {\n",
              "      run_callbacks();\n",
              "      return null;\n",
              "    }\n",
              "    console.debug(\"Bokeh: BokehJS not loaded, scheduling load and callback at\", now());\n",
              "    root._bokeh_is_loading = css_urls.length + js_urls.length;\n",
              "\n",
              "    function on_load() {\n",
              "      root._bokeh_is_loading--;\n",
              "      if (root._bokeh_is_loading === 0) {\n",
              "        console.debug(\"Bokeh: all BokehJS libraries/stylesheets loaded\");\n",
              "        run_callbacks()\n",
              "      }\n",
              "    }\n",
              "\n",
              "    function on_error(url) {\n",
              "      console.error(\"failed to load \" + url);\n",
              "    }\n",
              "\n",
              "    for (let i = 0; i < css_urls.length; i++) {\n",
              "      const url = css_urls[i];\n",
              "      const element = document.createElement(\"link\");\n",
              "      element.onload = on_load;\n",
              "      element.onerror = on_error.bind(null, url);\n",
              "      element.rel = \"stylesheet\";\n",
              "      element.type = \"text/css\";\n",
              "      element.href = url;\n",
              "      console.debug(\"Bokeh: injecting link tag for BokehJS stylesheet: \", url);\n",
              "      document.body.appendChild(element);\n",
              "    }\n",
              "\n",
              "    const hashes = {\"https://cdn.bokeh.org/bokeh/release/bokeh-2.3.3.min.js\": \"dM3QQsP+wXdHg42wTqW85BjZQdLNNIXqlPw/BgKoExPmTG7ZLML4EGqLMfqHT6ON\", \"https://cdn.bokeh.org/bokeh/release/bokeh-tables-2.3.3.min.js\": \"8x57I4YuIfu8XyZfFo0XVr2WAT8EK4rh/uDe3wF7YuW2FNUSNEpJbsPaB1nJ2fz2\", \"https://cdn.bokeh.org/bokeh/release/bokeh-widgets-2.3.3.min.js\": \"3QTqdz9LyAm2i0sG5XTePsHec3UHWwVsrOL68SYRoAXsafvfAyqtQ+h440+qIBhS\"};\n",
              "\n",
              "    for (let i = 0; i < js_urls.length; i++) {\n",
              "      const url = js_urls[i];\n",
              "      const element = document.createElement('script');\n",
              "      element.onload = on_load;\n",
              "      element.onerror = on_error.bind(null, url);\n",
              "      element.async = false;\n",
              "      element.src = url;\n",
              "      if (url in hashes) {\n",
              "        element.crossOrigin = \"anonymous\";\n",
              "        element.integrity = \"sha384-\" + hashes[url];\n",
              "      }\n",
              "      console.debug(\"Bokeh: injecting script tag for BokehJS library: \", url);\n",
              "      document.head.appendChild(element);\n",
              "    }\n",
              "  };\n",
              "\n",
              "  function inject_raw_css(css) {\n",
              "    const element = document.createElement(\"style\");\n",
              "    element.appendChild(document.createTextNode(css));\n",
              "    document.body.appendChild(element);\n",
              "  }\n",
              "\n",
              "  \n",
              "  var js_urls = [\"https://cdn.bokeh.org/bokeh/release/bokeh-2.3.3.min.js\", \"https://cdn.bokeh.org/bokeh/release/bokeh-widgets-2.3.3.min.js\", \"https://cdn.bokeh.org/bokeh/release/bokeh-tables-2.3.3.min.js\"];\n",
              "  var css_urls = [];\n",
              "  \n",
              "\n",
              "  var inline_js = [\n",
              "    function(Bokeh) {\n",
              "      Bokeh.set_log_level(\"info\");\n",
              "    },\n",
              "    function(Bokeh) {\n",
              "    \n",
              "    \n",
              "    }\n",
              "  ];\n",
              "\n",
              "  function run_inline_js() {\n",
              "    \n",
              "    if (root.Bokeh !== undefined || force === true) {\n",
              "      \n",
              "    for (var i = 0; i < inline_js.length; i++) {\n",
              "      inline_js[i].call(root, root.Bokeh);\n",
              "    }\n",
              "    } else if (Date.now() < root._bokeh_timeout) {\n",
              "      setTimeout(run_inline_js, 100);\n",
              "    } else if (!root._bokeh_failed_load) {\n",
              "      console.log(\"Bokeh: BokehJS failed to load within specified timeout.\");\n",
              "      root._bokeh_failed_load = true;\n",
              "    } else if (force !== true) {\n",
              "      var cell = $(document.getElementById(null)).parents('.cell').data().cell;\n",
              "      cell.output_area.append_execute_result(NB_LOAD_WARNING)\n",
              "    }\n",
              "\n",
              "  }\n",
              "\n",
              "  if (root._bokeh_is_loading === 0) {\n",
              "    console.debug(\"Bokeh: BokehJS loaded, going straight to plotting\");\n",
              "    run_inline_js();\n",
              "  } else {\n",
              "    load_libs(css_urls, js_urls, function() {\n",
              "      console.debug(\"Bokeh: BokehJS plotting callback run at\", now());\n",
              "      run_inline_js();\n",
              "    });\n",
              "  }\n",
              "}(window));"
            ],
            "application/vnd.bokehjs_load.v0+json": "\n(function(root) {\n  function now() {\n    return new Date();\n  }\n\n  var force = true;\n\n  if (typeof root._bokeh_onload_callbacks === \"undefined\" || force === true) {\n    root._bokeh_onload_callbacks = [];\n    root._bokeh_is_loading = undefined;\n  }\n\n  \n\n  \n  if (typeof (root._bokeh_timeout) === \"undefined\" || force === true) {\n    root._bokeh_timeout = Date.now() + 5000;\n    root._bokeh_failed_load = false;\n  }\n\n  var NB_LOAD_WARNING = {'data': {'text/html':\n     \"<div style='background-color: #fdd'>\\n\"+\n     \"<p>\\n\"+\n     \"BokehJS does not appear to have successfully loaded. If loading BokehJS from CDN, this \\n\"+\n     \"may be due to a slow or bad network connection. Possible fixes:\\n\"+\n     \"</p>\\n\"+\n     \"<ul>\\n\"+\n     \"<li>re-rerun `output_notebook()` to attempt to load from CDN again, or</li>\\n\"+\n     \"<li>use INLINE resources instead, as so:</li>\\n\"+\n     \"</ul>\\n\"+\n     \"<code>\\n\"+\n     \"from bokeh.resources import INLINE\\n\"+\n     \"output_notebook(resources=INLINE)\\n\"+\n     \"</code>\\n\"+\n     \"</div>\"}};\n\n  function display_loaded() {\n    var el = document.getElementById(null);\n    if (el != null) {\n      el.textContent = \"BokehJS is loading...\";\n    }\n    if (root.Bokeh !== undefined) {\n      if (el != null) {\n        el.textContent = \"BokehJS \" + root.Bokeh.version + \" successfully loaded.\";\n      }\n    } else if (Date.now() < root._bokeh_timeout) {\n      setTimeout(display_loaded, 100)\n    }\n  }\n\n\n  function run_callbacks() {\n    try {\n      root._bokeh_onload_callbacks.forEach(function(callback) {\n        if (callback != null)\n          callback();\n      });\n    } finally {\n      delete root._bokeh_onload_callbacks\n    }\n    console.debug(\"Bokeh: all callbacks have finished\");\n  }\n\n  function load_libs(css_urls, js_urls, callback) {\n    if (css_urls == null) css_urls = [];\n    if (js_urls == null) js_urls = [];\n\n    root._bokeh_onload_callbacks.push(callback);\n    if (root._bokeh_is_loading > 0) {\n      console.debug(\"Bokeh: BokehJS is being loaded, scheduling callback at\", now());\n      return null;\n    }\n    if (js_urls == null || js_urls.length === 0) {\n      run_callbacks();\n      return null;\n    }\n    console.debug(\"Bokeh: BokehJS not loaded, scheduling load and callback at\", now());\n    root._bokeh_is_loading = css_urls.length + js_urls.length;\n\n    function on_load() {\n      root._bokeh_is_loading--;\n      if (root._bokeh_is_loading === 0) {\n        console.debug(\"Bokeh: all BokehJS libraries/stylesheets loaded\");\n        run_callbacks()\n      }\n    }\n\n    function on_error(url) {\n      console.error(\"failed to load \" + url);\n    }\n\n    for (let i = 0; i < css_urls.length; i++) {\n      const url = css_urls[i];\n      const element = document.createElement(\"link\");\n      element.onload = on_load;\n      element.onerror = on_error.bind(null, url);\n      element.rel = \"stylesheet\";\n      element.type = \"text/css\";\n      element.href = url;\n      console.debug(\"Bokeh: injecting link tag for BokehJS stylesheet: \", url);\n      document.body.appendChild(element);\n    }\n\n    const hashes = {\"https://cdn.bokeh.org/bokeh/release/bokeh-2.3.3.min.js\": \"dM3QQsP+wXdHg42wTqW85BjZQdLNNIXqlPw/BgKoExPmTG7ZLML4EGqLMfqHT6ON\", \"https://cdn.bokeh.org/bokeh/release/bokeh-tables-2.3.3.min.js\": \"8x57I4YuIfu8XyZfFo0XVr2WAT8EK4rh/uDe3wF7YuW2FNUSNEpJbsPaB1nJ2fz2\", \"https://cdn.bokeh.org/bokeh/release/bokeh-widgets-2.3.3.min.js\": \"3QTqdz9LyAm2i0sG5XTePsHec3UHWwVsrOL68SYRoAXsafvfAyqtQ+h440+qIBhS\"};\n\n    for (let i = 0; i < js_urls.length; i++) {\n      const url = js_urls[i];\n      const element = document.createElement('script');\n      element.onload = on_load;\n      element.onerror = on_error.bind(null, url);\n      element.async = false;\n      element.src = url;\n      if (url in hashes) {\n        element.crossOrigin = \"anonymous\";\n        element.integrity = \"sha384-\" + hashes[url];\n      }\n      console.debug(\"Bokeh: injecting script tag for BokehJS library: \", url);\n      document.head.appendChild(element);\n    }\n  };\n\n  function inject_raw_css(css) {\n    const element = document.createElement(\"style\");\n    element.appendChild(document.createTextNode(css));\n    document.body.appendChild(element);\n  }\n\n  \n  var js_urls = [\"https://cdn.bokeh.org/bokeh/release/bokeh-2.3.3.min.js\", \"https://cdn.bokeh.org/bokeh/release/bokeh-widgets-2.3.3.min.js\", \"https://cdn.bokeh.org/bokeh/release/bokeh-tables-2.3.3.min.js\"];\n  var css_urls = [];\n  \n\n  var inline_js = [\n    function(Bokeh) {\n      Bokeh.set_log_level(\"info\");\n    },\n    function(Bokeh) {\n    \n    \n    }\n  ];\n\n  function run_inline_js() {\n    \n    if (root.Bokeh !== undefined || force === true) {\n      \n    for (var i = 0; i < inline_js.length; i++) {\n      inline_js[i].call(root, root.Bokeh);\n    }\n    } else if (Date.now() < root._bokeh_timeout) {\n      setTimeout(run_inline_js, 100);\n    } else if (!root._bokeh_failed_load) {\n      console.log(\"Bokeh: BokehJS failed to load within specified timeout.\");\n      root._bokeh_failed_load = true;\n    } else if (force !== true) {\n      var cell = $(document.getElementById(null)).parents('.cell').data().cell;\n      cell.output_area.append_execute_result(NB_LOAD_WARNING)\n    }\n\n  }\n\n  if (root._bokeh_is_loading === 0) {\n    console.debug(\"Bokeh: BokehJS loaded, going straight to plotting\");\n    run_inline_js();\n  } else {\n    load_libs(css_urls, js_urls, function() {\n      console.debug(\"Bokeh: BokehJS plotting callback run at\", now());\n      run_inline_js();\n    });\n  }\n}(window));"
          },
          "metadata": {}
        },
        {
          "output_type": "display_data",
          "data": {
            "text/html": [
              "\n",
              "\n",
              "\n",
              "\n",
              "\n",
              "\n",
              "  <div class=\"bk-root\" id=\"b555901d-7511-4a12-9806-3a4b63de68e3\" data-root-id=\"1640\"></div>\n"
            ]
          },
          "metadata": {}
        },
        {
          "output_type": "display_data",
          "data": {
            "application/javascript": [
              "(function(root) {\n",
              "  function embed_document(root) {\n",
              "    \n",
              "  var docs_json = {\"941f9fc9-c6ee-4b91-bb26-0c14e680ab0c\":{\"defs\":[],\"roots\":{\"references\":[{\"attributes\":{\"below\":[{\"id\":\"1651\"}],\"center\":[{\"id\":\"1654\"},{\"id\":\"1658\"}],\"left\":[{\"id\":\"1655\"}],\"renderers\":[{\"id\":\"1676\"}],\"title\":{\"id\":\"1641\"},\"toolbar\":{\"id\":\"1666\"},\"x_range\":{\"id\":\"1643\"},\"x_scale\":{\"id\":\"1647\"},\"y_range\":{\"id\":\"1645\"},\"y_scale\":{\"id\":\"1649\"}},\"id\":\"1640\",\"subtype\":\"Figure\",\"type\":\"Plot\"},{\"attributes\":{},\"id\":\"1649\",\"type\":\"LinearScale\"},{\"attributes\":{\"active_multi\":null,\"tools\":[{\"id\":\"1659\"},{\"id\":\"1660\"},{\"id\":\"1661\"},{\"id\":\"1662\"},{\"id\":\"1663\"},{\"id\":\"1664\"}]},\"id\":\"1666\",\"type\":\"Toolbar\"},{\"attributes\":{},\"id\":\"1643\",\"type\":\"DataRange1d\"},{\"attributes\":{},\"id\":\"1652\",\"type\":\"BasicTicker\"},{\"attributes\":{},\"id\":\"1656\",\"type\":\"BasicTicker\"},{\"attributes\":{\"fill_color\":{\"value\":\"#1f77b4\"},\"line_color\":{\"value\":\"#1f77b4\"},\"top\":{\"field\":\"top\"},\"x\":{\"field\":\"x\"}},\"id\":\"1674\",\"type\":\"VBar\"},{\"attributes\":{\"bottom_units\":\"screen\",\"fill_alpha\":0.5,\"fill_color\":\"lightgrey\",\"left_units\":\"screen\",\"level\":\"overlay\",\"line_alpha\":1.0,\"line_color\":\"black\",\"line_dash\":[4,4],\"line_width\":2,\"right_units\":\"screen\",\"syncable\":false,\"top_units\":\"screen\"},\"id\":\"1665\",\"type\":\"BoxAnnotation\"},{\"attributes\":{\"axis_label\":\"stop_id\",\"formatter\":{\"id\":\"1731\"},\"major_label_policy\":{\"id\":\"1732\"},\"ticker\":{\"id\":\"1652\"}},\"id\":\"1651\",\"type\":\"LinearAxis\"},{\"attributes\":{\"source\":{\"id\":\"1673\"}},\"id\":\"1677\",\"type\":\"CDSView\"},{\"attributes\":{\"axis\":{\"id\":\"1651\"},\"ticker\":null},\"id\":\"1654\",\"type\":\"Grid\"},{\"attributes\":{},\"id\":\"1660\",\"type\":\"WheelZoomTool\"},{\"attributes\":{},\"id\":\"1663\",\"type\":\"ResetTool\"},{\"attributes\":{},\"id\":\"1731\",\"type\":\"BasicTickFormatter\"},{\"attributes\":{\"fill_alpha\":{\"value\":0.1},\"fill_color\":{\"value\":\"#1f77b4\"},\"line_alpha\":{\"value\":0.1},\"line_color\":{\"value\":\"#1f77b4\"},\"top\":{\"field\":\"top\"},\"x\":{\"field\":\"x\"}},\"id\":\"1675\",\"type\":\"VBar\"},{\"attributes\":{\"axis\":{\"id\":\"1655\"},\"dimension\":1,\"ticker\":null},\"id\":\"1658\",\"type\":\"Grid\"},{\"attributes\":{\"data\":{\"top\":{\"__ndarray__\":\"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\",\"dtype\":\"float64\",\"order\":\"little\",\"shape\":[3776]},\"x\":[3987,4122,2896,3979,3978,3977,3976,3975,2897,2898,2942,1339,1338,1337,4151,1335,3988,3997,3989,3990,2892,2893,2894,1733,1732,2895,4000,3177,2427,3998,3996,3995,3994,3993,3992,3991,3999,2617,1336,3666,3765,3665,3557,4265,3556,3667,3668,3669,3479,3478,3480,3477,3475,3766,3476,4208,1334,3931,4207,1333,3044,3625,3043,3716,3952,3953,3045,2177,2176,3203,3372,3790,3163,2902,3358,3818,3819,3820,3821,3789,3518,3629,3217,3630,2626,3373,3056,3165,3164,3490,3374,3375,3216,3986,362,3526,4049,4018,1398,3012,3840,3841,3883,3884,3885,3912,3915,4050,3723,3722,3721,3138,3137,3136,3959,1396,1397,1399,1400,1401,1402,3957,3958,3011,4051,4266,3564,2400,2399,2397,2396,4033,4187,4185,4184,4183,4182,2100,2099,2093,2092,2091,2401,2402,2398,4257,4032,4031,4029,4030,4226,4256,4028,4258,4259,4260,3910,3461,3911,4168,3525,3909,3908,3707,3709,3708,3462,4169,694,4170,3468,3467,3466,3465,3710,1817,3906,2129,4173,4172,2131,2765,4007,1015,4174,2130,4005,759,1014,4009,4010,4011,4008,4175,4176,4177,3824,3795,2583,2132,4181,3430,3431,3432,3429,4180,4179,4178,3434,3433,4006,3794,1013,3793,697,699,700,701,702,2705,2708,698,703,2901,704,2542,2763,2764,2580,1976,3792,2213,695,2581,3785,3786,3787,3788,2582,696,346,4261,4262,4263,4264,2703,2704,2702,1384,1386,1385,3739,1972,3506,3507,3509,3510,4012,4103,4013,4014,2066,3508,2874,3726,3773,1810,4139,4141,4140,4206,4138,4137,4136,4135,4134,2932,2931,1983,2926,2930,2929,2928,2927,3936,3937,3938,4133,1970,1971,2925,2097,2873,3725,3913,3927,3928,3929,3930,1984,2098,3054,3294,3293,3292,4109,3290,3289,3886,3288,3555,3554,3291,1383,1682,922,923,1938,1683,2923,2920,2922,3276,3381,2984,2976,3537,1382,3656,4080,3670,301,3893,1681,3661,3660,3659,3658,3657,3655,3812,3946,4224,3464,3463,3192,3195,3199,2910,2909,2109,3277,3278,3279,2908,3847,3846,1840,1841,3191,1322,3201,705,1842,3866,3921,3863,3864,3106,2904,3865,2061,2094,1987,2616,1982,1974,2119,3985,2121,1977,3890,1981,2353,1975,1978,3891,3892,2120,1979,2060,1980,3184,4222,4221,3592,3590,2064,3591,2059,2063,2062,3956,3904,3917,363,4148,4149,4027,2103,4026,3193,4108,2174,3955,3194,3368,4147,4146,3367,3366,3830,3301,3727,2837,540,3026,2122,4119,4118,3933,3932,2325,2326,3533,3329,2352,4225,4100,2710,2711,3328,3046,539,3048,3047,2004,2005,3473,3472,2006,2003,2007,3679,1660,541,536,537,538,2008,2002,1661,1662,1663,1664,4158,4159,95,2077,2078,1370,1893,1362,1369,1361,1894,1372,1358,94,4131,93,1364,1371,92,1363,3925,1366,1359,1011,3775,1012,3624,2941,3496,3950,3951,3777,3770,4024,2875,3483,3004,3027,3029,3030,3028,3781,3349,3758,2866,3740,3857,3031,3783,2907,3482,3162,3161,3160,3873,3776,205,207,204,208,209,2767,211,2766,212,2975,214,3200,3202,3828,3298,3299,210,213,206,4095,4246,2530,4091,4090,4089,4094,4093,3648,4092,3559,3664,3558,4098,4097,1504,4099,4096,1947,1948,1949,2561,1950,3903,2913,814,815,4056,274,1568,2524,2523,1636,1946,1566,1635,2128,2127,2126,2125,2124,3382,3662,769,2937,2938,2939,2328,3501,2327,4055,768,3363,3593,1574,1575,1056,4126,1973,2527,2526,2525,3974,2905,2241,2240,2239,2238,2237,2235,2234,2233,3345,2231,2227,2226,2225,2223,2222,2221,2220,2219,2218,2217,4125,4127,3802,2228,4002,2242,3350,3187,303,2197,2196,3186,3760,3761,2625,2198,3859,1026,1025,3271,4121,3443,3940,3939,4105,3942,1634,2717,3941,4106,2671,2724,3014,2380,2725,3644,546,3637,1618,2381,2383,3616,3605,3604,3086,2080,3013,2382,2716,3442,2662,2665,2666,2667,2812,2806,2299,2301,3888,3246,2668,2669,2670,2300,2805,2664,2663,290,2804,810,813,3068,809,817,2437,4025,2438,812,811,3091,1519,2354,2633,3704,4003,556,557,2355,3392,816,2074,3325,1843,2594,2207,3102,273,2595,272,2206,2596,1844,2276,2208,2445,3920,4020,2017,4019,2807,2810,2811,2803,4145,4156,2808,4193,1633,4194,4196,2809,4199,4200,4201,4202,4203,4204,4205,3673,4195,1632,2797,924,4021,4022,4023,3672,283,1623,1624,1631,1626,1627,1625,3919,1628,4117,1629,926,925,573,3898,3897,3360,1962,1955,1422,1989,1096,3663,1332,3831,1995,1963,3868,1207,3763,3762,1961,3612,1619,1522,1620,1621,1622,3156,2789,3233,4166,3155,4191,4074,3273,3275,1176,3806,4076,4075,3364,3365,4073,1737,4072,2829,2536,3808,2599,3370,287,3881,3494,289,288,3371,286,3274,3534,3272,3738,2796,3728,1095,3250,3251,3521,3522,3519,543,3562,3253,1960,1964,3757,437,2695,1959,3252,1956,3264,1957,2823,1958,558,1258,3018,3041,4167,1659,3825,3826,220,3306,222,219,218,1077,221,217,1321,3407,216,3827,224,225,1169,950,2334,1171,2335,1170,2337,1070,2339,2110,2650,223,2315,4152,4153,4154,4155,2308,2956,3265,2336,2338,3049,3307,2333,3565,3089,1939,3088,2728,277,276,302,3222,278,2739,1055,2465,1044,3071,275,3391,284,3070,3090,3732,3811,279,280,3733,282,3734,3735,2598,686,1988,2780,3244,3240,687,2775,2774,685,2778,3238,2777,3424,2776,3237,2773,2374,2441,2779,3239,2414,2269,2268,4043,2270,226,3759,4044,1031,4046,4045,2312,3764,2313,2073,4047,227,1028,1029,3324,1524,1030,3185,2211,2086,3323,2737,2738,2436,4053,1032,2087,3093,3092,3451,1563,3536,2629,3965,3638,3387,2546,4054,1993,3388,1991,1990,3643,1992,1027,3729,3730,285,3504,1267,3503,3502,3337,3338,3339,3567,1783,3343,2331,1528,1525,1526,3347,3341,2332,281,1527,1173,1876,1443,3359,3355,3351,1855,3352,3353,3354,1565,3356,1877,550,553,552,551,555,554,3599,3169,3736,3167,3168,1878,3653,3287,1319,3362,3797,3361,3801,3799,3796,1658,2848,2849,2851,3286,1172,3800,3342,3258,3340,3285,2850,3798,3420,3418,3417,3416,2370,259,3322,147,1562,2016,1564,2015,260,1906,2390,258,2590,3816,2560,3814,3813,3405,1508,1518,3302,3815,1094,292,291,1146,1144,1143,3419,3540,3598,2969,847,846,3880,849,845,844,76,77,78,79,2450,2753,1021,3621,548,1762,848,852,3623,3622,1020,80,1016,1017,3390,1018,1019,3620,2614,2613,3051,2612,2611,2985,3603,4001,3050,935,851,2786,2782,2783,854,3058,855,2460,2787,2788,853,2785,2784,2934,3400,1342,4042,1756,3853,4041,3230,3231,1757,4186,2311,4038,3232,4197,2933,4040,4037,2116,3628,2473,4036,2867,3019,2868,2579,2869,3032,4142,738,2870,3627,1761,4039,3858,1759,1758,2871,3854,4035,1760,2872,1345,3964,2020,3174,1749,1010,3614,3774,3175,2709,1461,1747,2762,1745,1748,3782,3779,3072,3778,2084,3547,3548,2591,1744,3327,4129,3549,2761,2759,2760,1746,3780,752,3520,255,3406,254,3389,3100,1884,256,252,257,1256,3095,3002,253,3148,3146,3147,3145,3647,3149,140,2428,3144,2123,3234,1254,1446,1009,2914,4048,3573,304,1799,200,3822,1445,105,104,1099,106,3706,2072,3851,3385,3384,3852,3538,3539,3235,1780,3449,1779,3575,2790,2083,3383,2082,2085,2021,2081,3574,3067,3008,3062,3063,3348,1074,3064,3061,1073,1996,3966,3065,1997,2693,2692,4078,2691,2690,2689,2688,3887,1994,4017,4016,4015,3652,1174,3444,2463,3445,2539,3446,757,2321,2320,2317,1078,2319,1072,2576,2318,2076,2980,2979,1702,865,2528,3613,2981,1879,1057,2292,1448,1473,2755,3053,1447,3052,3297,1058,2912,3471,3221,1778,1435,1140,1142,3551,3408,3409,1801,3410,1521,2142,1320,545,3411,549,1141,3470,438,2706,2205,820,838,3223,3535,1343,3399,2457,2452,1351,2459,2458,2455,2456,2453,3493,4052,3871,2828,1344,2454,2491,2373,2507,2490,758,2488,2487,1808,2632,2644,2489,2631,2104,1007,4081,4082,3566,1006,3744,4079,3096,3073,3141,2906,3016,3015,2575,2303,2574,1183,3084,3083,3082,3081,3080,2740,2302,3085,497,2615,3079,3654,3281,609,608,607,1511,3737,1182,606,605,1181,1180,1520,1523,1179,1178,2630,496,3078,2741,3469,3077,3076,1937,1936,2573,2304,3862,504,3649,2838,86,3423,1317,1318,503,3680,3421,3422,62,3650,499,624,3123,502,3094,2034,3024,3060,3023,500,3119,501,3651,3120,3121,3122,3025,2475,2476,2479,1802,1902,3296,2592,1903,1904,1311,1310,1309,1308,3608,1307,498,3295,863,864,2477,860,861,862,2714,3139,3140,2794,85,2478,323,2537,3042,2079,84,3224,442,3225,3226,2000,1999,1998,2215,3074,3335,3403,3412,3413,3414,3415,2972,2971,2970,82,2014,3159,1054,3334,1764,1288,3333,1245,1763,1831,1289,3109,3332,3331,89,494,3560,1509,2372,1510,1874,1507,3633,2565,3066,3646,495,3631,1125,1124,1123,331,3632,1120,3962,3961,1122,3960,198,2204,199,544,1121,547,947,1126,2534,2486,3326,2757,2758,2058,2057,2055,2535,2056,2533,2532,2531,2529,2485,1454,3768,1453,1455,1456,1452,1451,1459,1941,1940,1129,1059,1127,1076,1075,1457,2752,1341,1340,1638,1900,1128,1458,261,3075,1482,3003,2721,440,3705,858,3006,3007,3020,3158,3157,3009,856,2731,2732,2733,577,859,857,2734,2730,2729,2735,2936,2826,340,2847,1839,1838,3386,2877,1837,3645,341,2408,2216,3170,3171,342,343,3172,3173,949,946,1005,2846,2368,1004,2989,2990,1101,1102,1103,1104,2991,2988,2538,3570,2540,1908,1206,827,448,1907,2577,3571,1913,2541,2114,1822,2184,948,2183,2815,2182,2181,533,2185,2180,2814,83,2186,1417,1512,2816,1416,1516,263,2209,1514,1513,2470,1515,2329,3922,475,2951,2727,2563,3923,2707,600,601,602,603,2564,599,2824,642,3924,2825,2566,1705,1704,1703,1706,3254,4124,262,908,1404,3552,3584,2474,2385,1460,2305,2306,2307,2309,2275,3242,3241,2700,2697,2698,2699,938,3671,3486,3580,3579,3578,1775,3577,3488,3576,1776,3487,188,2430,1600,1601,1602,1603,1008,3489,2293,2718,3595,3596,3597,3642,3641,3640,3635,3594,3634,3636,3427,3426,3425,1071,2924,2935,3639,1110,3440,3263,2138,2139,2140,3304,1942,1444,2736,1111,1943,1765,1707,2378,2377,2330,2376,2375,1800,1795,604,3916,595,1796,598,597,596,1798,3151,3505,1797,3127,1418,3699,3697,3695,3694,3693,3696,3703,2369,3687,2620,3691,3689,3690,3698,3303,3700,3688,3125,887,1674,3692,1220,3702,3701,3126,747,3124,542,2696,1645,2834,2833,2701,2831,2832,215,3300,2310,1278,87,2101,1279,834,1281,1280,2499,3098,2498,2497,2495,2500,2494,2493,2492,2496,2501,2502,1381,1380,2503,2504,2986,1530,2505,2506,2508,2389,1640,867,1639,3500,81,1685,1777,1538,1833,436,1576,1577,1578,1573,516,3428,1826,2845,2136,2973,1048,3435,619,622,623,2464,1888,2135,2134,3553,2543,2544,2545,1935,2102,2567,2568,2570,2569,1985,3532,1593,2229,3270,3269,3531,3485,3005,889,964,3330,3268,1768,2888,2889,1951,2891,2316,124,2890,1767,1060,2386,2770,3380,3378,2141,3377,2723,2722,3376,3379,3499,3220,3497,2719,1680,3524,2178,3097,3280,3243,3498,2210,2548,2282,1868,690,506,2547,1793,3398,18,2720,1133,1599,1598,1597,2781,2550,2203,2974,2202,2201,2200,2199,3247,2190,3619,2431,3218,2433,2654,3219,22,1414,2827,1069,1204,2653,2651,2578,1205,1872,1587,2482,1966,2878,1108,1766,1965,1928,570,1419,3447,1725,2356,1968,1899,1898,1637,3034,1282,1832,1969,3448,3724,409,2756,928,927,2133,1502,3282,2954,439,1107,141,3284,571,3040,2627,578,2955,3283,61,1413,60,2245,2244,2243,1062,201,202,1036,2652,518,144,2137,1901,2977,754,2610,1233,828,2749,266,3481,264,265,267,268,269,2768,1175,2772,1152,1387,2771,1388,2553,2483,1137,1136,1135,517,1134,3039,3038,569,2480,3336,1227,2481,3037,3036,3495,1896,1830,1829,1652,1650,1825,1651,1794,1653,1828,1654,1827,572,1665,2555,2607,2556,2557,2858,1669,1668,1666,2514,2558,2559,1667,676,2257,73,2259,866,2258,2260,2342,1594,2943,138,2157,1595,2344,1592,1673,2346,1346,2343,1727,345,2345,1061,1648,344,1647,1803,2726,2843,2230,799,2967,2839,2840,2842,2392,1921,789,2841,1132,1252,1873,1449,1875,1255,1131,2968,1572,1043,1257,1130,1253,1347,3586,2039,3587,870,3588,1316,1596,868,869,298,1869,1349,871,2799,1348,2038,2036,2037,3396,3607,3394,2252,1185,3395,1139,2879,3397,1871,2075,2274,2273,1916,2272,2271,1671,914,1917,760,505,1580,1579,1836,3249,1265,194,1266,1232,1231,1268,192,2751,1834,1835,193,1805,2887,2819,1807,2885,2960,2886,1806,2961,839,1687,778,777,2484,1688,305,1689,776,3021,1679,2112,2113,1138,1047,1045,1203,1046,1049,306,1050,1862,1863,513,1750,186,2750,1649,662,2391,2947,1209,1234,1225,2432,2434,1228,1226,2945,2946,2435,2365,3439,2187,2884,3441,1882,1263,1870,1312,1042,2379,1866,2366,2367,929,1277,535,534,3437,636,3438,2997,3436,965,2001,2152,1880,447,1529,2820,103,429,432,431,1865,428,430,723,426,2821,112,434,2822,722,433,956,1851,2859,2673,427,683,1472,1292,682,681,1915,1914,1881,2813,1885,2962,514,1315,1100,1314,2987,2713,1276,1313,1290,1701,2835,2950,1177,2948,2949,139,2952,665,2953,2694,2554,1918,1919,1355,1954,1354,1352,1353,2944,2552,1041,1039,1365,684,1357,1356,1040,1360,780,680,2232,2224,3101,3742,779,1403,762,2298,2297,3743,2295,1909,2294,187,2296,628,1164,3741,635,2628,1503,761,837,2883,1742,2978,1462,1463,2993,2882,1464,1557,420,2994,2995,2348,2742,2347,2349,3022,1470,2118,650,648,2236,2964,647,646,649,2965,1086,764,143,1067,1291,445,1068,1088,1087,1066,763,1085,446,1084,1083,1925,2818,1922,1728,1923,1926,1924,2795,2467,1927,1098,1892,1751,1891,872,1911,1753,1754,1755,1890,1889,728,1910,386,2658,2659,2660,2371,1912,724,2852,725,1752,1331,2854,2855,2856,1330,1329,1328,1675,2853,1327,1325,1809,1324,726,1260,1326,3523,1857,2350,2151,366,137,1546,530,1931,1932,2405,1933,2283,1934,531,1930,2404,1726,2403,2281,2364,2363,1586,708,707,2440,176,3745,2684,2189,421,422,423,88,425,424,3746,2409,2095,2088,1929,2471,2090,2089,2341,800,2472,798,2340,944,1920,1065,1064,1063,203,1213,2155,2012,2011,2010,2154,1215,1214,2158,2159,1216,1264,3248,1676,850,840,1713,2156,2747,1804,2744,2743,734,2745,2746,899,614,1412,3568,450,898,613,886,1415,1690,616,617,885,1569,615,1109,1221,1222,1570,1853,2748,643,716,1184,2357,717,2358,2359,2361,2360,715,645,519,719,718,644,1420,1864,2963,709,1867,476,2817,1230,2512,2511,1229,1542,1541,1505,1722,796,795,1852,793,2468,792,794,2047,1208,2045,2044,2025,1850,2041,329,2046,1468,1467,1517,679,465,464,463,462,461,460,1471,1368,1469,2589,594,2621,2622,2623,2603,2425,515,2068,667,666,3059,2362,2117,1442,1886,1537,1887,627,2469,3582,1847,2280,3583,3585,2593,2115,435,2022,3316,3317,677,3314,3315,3313,2423,2421,2023,2351,2024,750,2422,2026,2027,330,1585,610,611,2287,2286,2288,145,1678,2601,381,1210,1883,751,161,2602,1212,2604,2600,1211,1846,1684,2881,2880,3245,1845,1105,1739,639,640,1670,945,2424,2648,2647,470,471,2646,807,1081,2153,788,1082,711,1721,1539,1540,767,766,1248,2067,177,2682,2798,1034,2188,2070,3318,3321,3320,3319,63,512,1323,3114,3115,3118,808,451,3116,3117,1367,2412,1436,2411,2513,2410,737,575,576,441,1219,1536,1243,1218,1535,1534,1038,2517,1250,1249,2516,841,963,661,1856,727,2518,1251,478,479,480,481,1246,520,477,1247,574,2254,443,1093,1769,444,2255,1824,2395,2608,2609,592,2605,126,591,593,3266,1571,1774,1773,467,897,466,1223,1224,1743,474,472,1474,1475,1849,888,1848,1476,473,774,740,2032,2515,775,712,389,2413,387,391,713,1677,2192,388,714,1024,1023,1854,178,678,179,58,2279,57,2256,2029,247,801,755,1736,1734,3569,895,2028,753,896,941,1723,940,1724,2278,943,942,939,2606,668,17,2415,2322,1613,1611,1610,1560,2030,1612,806,1616,1615,1614,1861,2426,532,2802,836,2394,1657,1656,641,390,2899,2900,2009,2640,2171,2194,2170,365,1643,1554,1644,1553,1555,2111,368,1735,2407,2162,876,880,2167,2166,53,879,878,877,1781,1641,2836,2277,510,96,91,805,90,97,125,98,49,2163,2164,2168,2165,2161,2169,1092,101,100,1199,99,1201,1202,102,1200,2191,14,756,332,2656,2657,2193,1672,59,1409,1408,2639,2429,2638,1477,16,2013,15,384,2635,2636,2637,1719,1698,1080,1079,2451,802,349,803,350,351,352,804,2195,739,790,791,1700,1168,1699,1242,873,1118,1119,932,1378,930,931,1117,1116,452,933,1379,1166,1167,1858,1298,454,453,455,2289,1543,2291,2290,107,2248,2246,2522,2251,2249,2247,2250,1772,1771,781,782,1493,1410,1717,2685,1716,1715,783,1532,183,786,1262,1283,1782,784,741,1770,960,587,1859,2284,1860,588,1655,1423,1411,1608,1609,2857,1186,120,119,114,118,121,115,116,117,1113,721,720,3110,3112,3111,1155,670,1642,1156,2019,468,469,185,184,528,56,55,529,54,2314,626,625,1147,1145,2686,3113,829,1217,2586,1244,1465,1466,1738,1033,1439,1091,113,904,669,2521,1533,890,2519,893,892,891,449,1531,2520,1441,2466,1500,1544,1545,787,785,2285,1154,1151,1150,1149,1157,1158,2649,299,1153,1479,842,354,2214,355,353,671,190,122,174,123,189,2106,2996,297,1394,1022,2105,1390,1391,735,383,736,797,1438,1440,1478,2800,175,64,75,2801,522,1299,1301,348,1302,1300,51,843,1497,1552,1393,50,52,1551,1550,1549,38,487,1392,40,485,39,37,41,484,486,36,1718,1720,566,883,521,565,2069,881,882,1741,1294,1293,1740,819,509,567,507,563,1191,1190,1501,1189,1188,1187,568,508,564,561,560,1377,1376,1375,1374,1373,1714,746,1424,818,2448,2641,2642,2643,562,2447,2449,959,620,1495,1494,1496,1498,1261,2418,1696,20,2420,2419,2417,2416,1697,1499,334,335,1389,961,962,315,316,314,1297,1350,1296,320,319,317,318,1646,382,733,618,236,235,1437,621,238,237,884,69,1785,523,1617,74,1051,1165,70,2588,1967,2587,66,359,65,1558,1786,2675,999,1489,589,590,710,19,1425,1784,1427,1429,135,136,1426,998,229,1052,1053,34,1487,1488,1490,1491,33,35,1492,743,975,745,744,347,742,2323,1001,1433,2324,1432,1434,1431,1430,1035,835,1428,1694,1192,1193,1285,1002,831,731,1483,1485,1484,1486,729,730,732,293,1000,385,773,1506,982,771,772,1691,4,526,527,525,524,2661,663,832,1148,230,228,232,986,984,874,457,1295,1259,2266,2149,936,134,2683,2439,2687,979,973,2681,980,231,2676,2677,2678,2679,2674,2680,1695,1284,875,985,983,2150,981,675,459,957,1693,1692,672,2919,673,45,328,976,974,2462,400,978,977,197,338,1480,1303,1481,1304,1944,21,321,322,989,990,1003,987,2145,370,511,1287,42,44,415,1556,196,294,295,296,953,954,955,399,1583,142,371,372,916,988,182,674,128,127,492,181,951,2071,2147,2107,905,833,173,43,490,2148,2918,692,900,416,1712,1606,1607,915,1945,270,418,952,379,195,380,180,894,1286,491,2388,130,489,131,493,271,958,1790,191,1789,2108,324,357,337,1112,356,358,339,822,2915,2916,2917,419,407,1710,1306,398,823,26,821,2634,637,12,1788,458,417,413,72,71,9,1159,1787,689,146,748,749,1162,406,172,171,170,1792,1791,240,414,412,410,901,902,903,911,664,1561,327,411,336,326,638,408,405,403,1,826,824,825,1160,169,910,907,1089,325,906,909,612,2,3,1161,162,166,378,2146,129,401,1163,967,1823,13,11,168,165,1114,402,167,164,163,1115,2031,10,629,8,7,6,1821,5,1090,2143,2144,630,993,997,994,995,992,996,1709,1711,1406,579,991,632,582,581,1819,1818,392,937,1405,1407,972,970,971,968,969,1708,1820,1197,483,482,396,397,395,394,393,631,654,133,132,765,633,660,404,1196,1195,1194,152,658,656,655,653,651,652,657,1241,934,234,1305,1198,456,584,583,585,157,151,46,244,830,108,154,156,153,160,159,158,155,659,580,1237,1236,47,706,251,68,586,300,109,1239,249,250,1240,1604,1605,28,29,0,111,1238,110,23,150,488,1235,67,243,248,233,245,30,32,24,242,31,25,770,241,27,246,148,634,239,149,48]},\"selected\":{\"id\":\"1739\"},\"selection_policy\":{\"id\":\"1738\"}},\"id\":\"1673\",\"type\":\"ColumnDataSource\"},{\"attributes\":{},\"id\":\"1734\",\"type\":\"BasicTickFormatter\"},{\"attributes\":{},\"id\":\"1735\",\"type\":\"AllLabels\"},{\"attributes\":{},\"id\":\"1645\",\"type\":\"DataRange1d\"},{\"attributes\":{\"data_source\":{\"id\":\"1673\"},\"glyph\":{\"id\":\"1674\"},\"hover_glyph\":null,\"muted_glyph\":null,\"nonselection_glyph\":{\"id\":\"1675\"},\"view\":{\"id\":\"1677\"}},\"id\":\"1676\",\"type\":\"GlyphRenderer\"},{\"attributes\":{},\"id\":\"1659\",\"type\":\"PanTool\"},{\"attributes\":{},\"id\":\"1738\",\"type\":\"UnionRenderers\"},{\"attributes\":{},\"id\":\"1647\",\"type\":\"LinearScale\"},{\"attributes\":{\"overlay\":{\"id\":\"1665\"}},\"id\":\"1661\",\"type\":\"BoxZoomTool\"},{\"attributes\":{\"axis_label\":\"ratio\",\"formatter\":{\"id\":\"1734\"},\"major_label_policy\":{\"id\":\"1735\"},\"ticker\":{\"id\":\"1656\"}},\"id\":\"1655\",\"type\":\"LinearAxis\"},{\"attributes\":{},\"id\":\"1739\",\"type\":\"Selection\"},{\"attributes\":{\"text\":\"first line plot\"},\"id\":\"1641\",\"type\":\"Title\"},{\"attributes\":{},\"id\":\"1732\",\"type\":\"AllLabels\"},{\"attributes\":{},\"id\":\"1662\",\"type\":\"SaveTool\"},{\"attributes\":{},\"id\":\"1664\",\"type\":\"HelpTool\"}],\"root_ids\":[\"1640\"]},\"title\":\"Bokeh Application\",\"version\":\"2.3.3\"}};\n",
              "  var render_items = [{\"docid\":\"941f9fc9-c6ee-4b91-bb26-0c14e680ab0c\",\"root_ids\":[\"1640\"],\"roots\":{\"1640\":\"b555901d-7511-4a12-9806-3a4b63de68e3\"}}];\n",
              "  root.Bokeh.embed.embed_items_notebook(docs_json, render_items);\n",
              "\n",
              "  }\n",
              "  if (root.Bokeh !== undefined) {\n",
              "    embed_document(root);\n",
              "  } else {\n",
              "    var attempts = 0;\n",
              "    var timer = setInterval(function(root) {\n",
              "      if (root.Bokeh !== undefined) {\n",
              "        clearInterval(timer);\n",
              "        embed_document(root);\n",
              "      } else {\n",
              "        attempts++;\n",
              "        if (attempts > 100) {\n",
              "          clearInterval(timer);\n",
              "          console.log(\"Bokeh: ERROR: Unable to run BokehJS code because BokehJS library is missing\");\n",
              "        }\n",
              "      }\n",
              "    }, 10, root)\n",
              "  }\n",
              "})(window);"
            ],
            "application/vnd.bokehjs_exec.v0+json": ""
          },
          "metadata": {
            "application/vnd.bokehjs_exec.v0+json": {
              "id": "1640"
            }
          }
        }
      ]
    },
    {
      "cell_type": "code",
      "source": [
        "min(data['ratio'])"
      ],
      "metadata": {
        "id": "aZPQJ4m1ShFm",
        "colab": {
          "base_uri": "https://localhost:8080/"
        },
        "outputId": "c6ced0ab-f452-48ed-fb5f-4399f4379f23"
      },
      "execution_count": 24,
      "outputs": [
        {
          "output_type": "execute_result",
          "data": {
            "text/plain": [
              "0.007092198581560284"
            ]
          },
          "metadata": {},
          "execution_count": 24
        }
      ]
    },
    {
      "cell_type": "code",
      "source": [
        "max(data['ratio'])"
      ],
      "metadata": {
        "colab": {
          "base_uri": "https://localhost:8080/"
        },
        "id": "ULrteWH7UHmO",
        "outputId": "f679476e-acf1-4de7-b2fb-c5148ab11346"
      },
      "execution_count": 25,
      "outputs": [
        {
          "output_type": "execute_result",
          "data": {
            "text/plain": [
              "1.0"
            ]
          },
          "metadata": {},
          "execution_count": 25
        }
      ]
    },
    {
      "cell_type": "markdown",
      "source": [
        "**2.2**"
      ],
      "metadata": {
        "id": "qmnVrqLwUf85"
      }
    },
    {
      "cell_type": "code",
      "source": [
        "import matplotlib.pyplot as plt\n",
        "cm = plt.cm.get_cmap('RdYlGn')\n",
        "x = data['stop_lat']\n",
        "y = data['stop_lon']\n",
        "z = data['ratio']\n",
        "sc = plt.scatter(x, y, c=z, vmin=0, vmax=1, s=35, cmap=cm)\n",
        "plt.colorbar(sc)\n",
        "plt.show()"
      ],
      "metadata": {
        "colab": {
          "base_uri": "https://localhost:8080/",
          "height": 269
        },
        "id": "Ly6ZU8jEV-mM",
        "outputId": "a1bcad3a-da35-4fdc-d445-6c54a83e0431"
      },
      "execution_count": 64,
      "outputs": [
        {
          "output_type": "display_data",
          "data": {
            "image/png": "[encoded data removed]",
            "text/plain": [
              "<Figure size 432x288 with 2 Axes>"
            ]
          },
          "metadata": {
            "needs_background": "light"
          }
        }
      ]
    },
    {
      "cell_type": "code",
      "source": [
        ""
      ],
      "metadata": {
        "id": "DMnTWOPJWCmC"
      },
      "execution_count": null,
      "outputs": []
    }
  ]
}